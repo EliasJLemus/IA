{
  "nbformat": 4,
  "nbformat_minor": 0,
  "metadata": {
    "colab": {
      "provenance": []
    },
    "kernelspec": {
      "name": "python3",
      "display_name": "Python 3"
    },
    "language_info": {
      "name": "python"
    }
  },
  "cells": [
    {
      "cell_type": "code",
      "execution_count": null,
      "metadata": {
        "id": "NGOQx9S_b1Cv"
      },
      "outputs": [],
      "source": [
        "import tensorflow as tf # Librería de ML\n",
        "import numpy as np"
      ]
    },
    {
      "cell_type": "code",
      "source": [
        "celsius = np.array([-40, -10, 0, 8, 15, 22, 38], dtype=float)\n",
        "fahrenheit = np.array([-40, 14, 32, 46, 59, 72, 100], dtype=float)"
      ],
      "metadata": {
        "id": "EYjccac2eQVH"
      },
      "execution_count": null,
      "outputs": []
    },
    {
      "cell_type": "code",
      "source": [
        "# modelo = tf.keras.Sequential([\n",
        "#     tf.keras.layers.Input(shape=[1]),  # Capa de entrada\n",
        "#     tf.keras.layers.Dense(units=1)     # Capa densa\n",
        "# ])\n",
        "\n",
        "# Definición del modelo utilizando un objeto de entrada\n",
        "modelo = tf.keras.Sequential([          # Crea un modelo secuencial que apila capas linealmente\n",
        "    tf.keras.layers.Input(shape=[1]),   # Capa de entrada que espera una entrada de dimensión 1\n",
        "    tf.keras.layers.Dense(units=3),     # Primera capa oculta con 3 neuronas que aplica una transformación lineal\n",
        "    tf.keras.layers.Dense(units=3),     # Segunda capa oculta con 3 neuronas\n",
        "    tf.keras.layers.Dense(units=1)      # Capa de salida con 1 neurona que proporciona la salida final del modelo\n",
        "])"
      ],
      "metadata": {
        "id": "v2KZgWPhfIbO"
      },
      "execution_count": null,
      "outputs": []
    },
    {
      "cell_type": "code",
      "source": [
        "# Estructura de la red neuronal\n",
        "print(\"\"\"\n",
        "              +-----------+\n",
        "              |   Entrada |\n",
        "              | (Celsius) |\n",
        "              +-----------+\n",
        "                    |\n",
        "                    v\n",
        "          +-------------------+\n",
        "          |     Capa Oculta   |  <-- 3 Neuronas\n",
        "          |   (3 Neuronas)    |\n",
        "          +-------------------+\n",
        "                    |\n",
        "                    v\n",
        "          +-------------------+\n",
        "          |     Capa Oculta   |  <-- 3 Neuronas\n",
        "          |   (3 Neuronas)    |\n",
        "          +-------------------+\n",
        "                    |\n",
        "                    v\n",
        "          +-------------------+\n",
        "          |      Salida       |  <-- 1 Neurona\n",
        "          |   (Fahrenheit)    |\n",
        "          +-------------------+\n",
        "\"\"\")\n"
      ],
      "metadata": {
        "id": "sShMfSX6w12G"
      },
      "execution_count": null,
      "outputs": []
    },
    {
      "cell_type": "code",
      "source": [
        "# Aquí estoy compilando el modelo, que es el paso en el que defino cómo va a aprender.\n",
        "# Para ello, le indico qué optimizador y función de pérdida utilizar.\n",
        "modelo.compile(\n",
        "    # Estoy usando el optimizador Adam con una tasa de aprendizaje de 0.1.\n",
        "    # El optimizador Adam ajusta los pesos del modelo de manera eficiente para minimizar el error.\n",
        "    optimizer = tf.keras.optimizers.Adam(0.1),\n",
        "\n",
        "    # Aquí le paso la función de pérdida 'mean_squared_error' (error cuadrático medio),\n",
        "    # que es adecuada para problemas de regresión. Esta función mide qué tan lejos están las predicciones\n",
        "    # del modelo respecto a los valores reales y penaliza más los errores grandes.\n",
        "    loss = 'mean_squared_error'\n",
        ")"
      ],
      "metadata": {
        "id": "hRlNhKlghBd7"
      },
      "execution_count": null,
      "outputs": []
    },
    {
      "cell_type": "code",
      "source": [
        "print(\"Comenzando entrenamiento...\")\n",
        "\n",
        "# Aquí estoy entrenando el modelo con los datos de entrada (celsius) y las salidas esperadas (fahrenheit).\n",
        "# Utilizo 1000 épocas (epochs), que es el número de veces que el modelo verá el conjunto de datos completo durante el entrenamiento.\n",
        "# La opción verbose=False hace que no se muestre información detallada del proceso de entrenamiento en la consola.\n",
        "historial = modelo.fit(celsius, fahrenheit, epochs=1000, verbose=False)\n",
        "\n",
        "# Imprimo un mensaje para indicar que el modelo ha sido entrenado exitosamente.\n",
        "print(\"¡Modelo entrenado!\")"
      ],
      "metadata": {
        "colab": {
          "base_uri": "https://localhost:8080/"
        },
        "id": "GjWZXOu-jVrl",
        "outputId": "e550a275-3599-4ba6-8b20-b051d19ce3be"
      },
      "execution_count": null,
      "outputs": [
        {
          "output_type": "stream",
          "name": "stdout",
          "text": [
            "Comenzando entrenamiento...\n",
            "¡Modelo entrenado!\n"
          ]
        }
      ]
    },
    {
      "cell_type": "code",
      "source": [
        "import matplotlib.pyplot as plt\n",
        "plt.xlabel('Época')\n",
        "plt.ylabel('Magnitud de pérdida')\n",
        "plt.plot(historial.history['loss'])"
      ],
      "metadata": {
        "colab": {
          "base_uri": "https://localhost:8080/",
          "height": 468
        },
        "id": "xMLRii6-kyC-",
        "outputId": "1df6db63-5d0c-41e3-e506-dab44234a344"
      },
      "execution_count": null,
      "outputs": [
        {
          "output_type": "execute_result",
          "data": {
            "text/plain": [
              "[<matplotlib.lines.Line2D at 0x7c0f1ff400d0>]"
            ]
          },
          "metadata": {},
          "execution_count": 58
        },
        {
          "output_type": "display_data",
          "data": {
            "text/plain": [
              "<Figure size 640x480 with 1 Axes>"
            ],
            "image/png": "[encoded data removed]"
          },
          "metadata": {}
        }
      ]
    },
    {
      "cell_type": "code",
      "source": [
        "print('¡Hagamos una predicción!')\n",
        "resultado = modelo.predict(np.array([[100.0]])) # Predecimos el resultado de entrada que son 100°F\n",
        "print('El resultado es ' +str(resultado[0][0])+ '°F')"
      ],
      "metadata": {
        "colab": {
          "base_uri": "https://localhost:8080/"
        },
        "id": "MDeNPt2plWrG",
        "outputId": "4efc5254-3fcc-4088-c08e-9559988c1cc6"
      },
      "execution_count": null,
      "outputs": [
        {
          "output_type": "stream",
          "name": "stdout",
          "text": [
            "¡Hagamos una predicción!\n",
            "\u001b[1m1/1\u001b[0m \u001b[32m━━━━━━━━━━━━━━━━━━━━\u001b[0m\u001b[37m\u001b[0m \u001b[1m0s\u001b[0m 110ms/step\n",
            "El resultado es 211.74744°F\n"
          ]
        }
      ]
    },
    {
      "cell_type": "code",
      "source": [
        "# Itero sobre cada peso en el modelo, donde 'modelo.weights' contiene todos los pesos y sesgos de las capas del modelo.\n",
        "for peso in modelo.weights:\n",
        "    # Imprimo el nombre del peso y su valor en forma de tensor.\n",
        "    # 'peso.name' me da el nombre del tensor, que es útil para identificar a qué capa y qué tipo de parámetro pertenece.\n",
        "    # 'peso.numpy()' convierte el tensor de TensorFlow a un array de NumPy, permitiendo visualizarlo de forma más comprensible.\n",
        "    print(peso.name, peso.numpy())"
      ],
      "metadata": {
        "colab": {
          "base_uri": "https://localhost:8080/"
        },
        "id": "7mNri-3Onoxw",
        "outputId": "f7184d97-4fc6-4221-bded-7b565c743175"
      },
      "execution_count": null,
      "outputs": [
        {
          "output_type": "stream",
          "name": "stdout",
          "text": [
            "kernel [[ 0.39590687 -0.17497474  0.24838287]]\n",
            "bias [ 3.0739858 -3.4106474  2.5715837]\n",
            "kernel [[ 0.44624028 -1.3498431   0.02977554]\n",
            " [-1.1993737   0.80595875 -0.19508423]\n",
            " [ 0.5614321  -0.73622584 -0.17416988]]\n",
            "bias [ 3.0589123 -3.3833044 -2.5539613]\n",
            "kernel [[ 0.92751455]\n",
            " [-1.5276746 ]\n",
            " [-0.41644862]]\n",
            "bias [3.175728]\n"
          ]
        }
      ]
    },
    {
      "cell_type": "markdown",
      "source": [
        "**Salida básica = (100×1.7981356)+31.930487 = 211.74405°F**"
      ],
      "metadata": {
        "id": "BwDXs_Bhqvv4"
      }
    }
  ]
}