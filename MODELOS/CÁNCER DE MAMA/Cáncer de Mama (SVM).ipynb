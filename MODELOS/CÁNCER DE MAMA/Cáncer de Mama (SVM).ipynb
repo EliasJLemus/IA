{
  "nbformat": 4,
  "nbformat_minor": 0,
  "metadata": {
    "colab": {
      "provenance": []
    },
    "kernelspec": {
      "name": "python3",
      "display_name": "Python 3"
    },
    "language_info": {
      "name": "python"
    }
  },
  "cells": [
    {
      "cell_type": "markdown",
      "source": [
        "### **PREDICCIÓN CÁNCER DE MAMA**"
      ],
      "metadata": {
        "id": "59e1UOk6EkrU"
      }
    },
    {
      "cell_type": "markdown",
      "source": [
        "### **Preparación de Datos**"
      ],
      "metadata": {
        "id": "n7Uwj2e0EvZw"
      }
    },
    {
      "cell_type": "code",
      "source": [
        "from sklearn.datasets import load_breast_cancer\n",
        "\n",
        "data = load_breast_cancer()\n",
        "\n",
        "# Separa los datos en features (X) y target/objetivo (y)\n",
        "# X contiene las características de los tumores\n",
        "# y contiene las clasificaciones (0 para maligno, 1 para benigno)\n",
        "X = data.data\n",
        "y = data.target"
      ],
      "metadata": {
        "id": "0NGVjlvAEj6H"
      },
      "execution_count": null,
      "outputs": []
    },
    {
      "cell_type": "markdown",
      "source": [
        "### **Entrenamiento con SVM**"
      ],
      "metadata": {
        "id": "SsuzlkFsFuAI"
      }
    },
    {
      "cell_type": "code",
      "source": [
        "from sklearn.model_selection import train_test_split\n",
        "\n",
        "X_train, X_test, y_train, y_test = train_test_split(X, y, test_size=0.2)"
      ],
      "metadata": {
        "id": "xdTWdjzTFlLZ"
      },
      "execution_count": null,
      "outputs": []
    },
    {
      "cell_type": "code",
      "source": [
        "from sklearn import svm\n",
        "from sklearn.metrics import accuracy_score\n",
        "\n",
        "# Define diferentes tipos de kernel (formas de clasificar los datos)\n",
        "kernels = [\"linear\",\"rbf\",\"sigmoid\"]\n",
        "# Define diferentes valores de gamma (qué tan flexible es el modelo)\n",
        "gammas = [0.1,0.01,0.001,0.0001]\n",
        "\n",
        "# Prueba cada combinación para ver cuál funciona mejor\n",
        "for k in kernels:\n",
        "    for g in gammas:\n",
        "        modelo = svm.SVC(kernel=k,gamma=g)\n",
        "        modelo.fit(X_train, y_train) # Entrenamiento\n",
        "        pred = modelo.predict(X_test) # Predicciones\n",
        "        pred = accuracy_score(y_test, pred) # Score de los resultados\n",
        "        print(f\"Kernel: {k}, Gamma: {g}, Accuracy: {pred}\")"
      ],
      "metadata": {
        "colab": {
          "base_uri": "https://localhost:8080/"
        },
        "id": "sgGsThu6GFZd",
        "outputId": "bc2eb85b-c975-4de5-a1d7-c2a018dc9181"
      },
      "execution_count": null,
      "outputs": [
        {
          "output_type": "stream",
          "name": "stdout",
          "text": [
            "Kernel: linear, Gamma: 0.1, Accuracy: 0.9473684210526315\n",
            "Kernel: linear, Gamma: 0.01, Accuracy: 0.9473684210526315\n",
            "Kernel: linear, Gamma: 0.001, Accuracy: 0.9473684210526315\n",
            "Kernel: linear, Gamma: 0.0001, Accuracy: 0.9473684210526315\n",
            "Kernel: rbf, Gamma: 0.1, Accuracy: 0.5789473684210527\n",
            "Kernel: rbf, Gamma: 0.01, Accuracy: 0.5789473684210527\n",
            "Kernel: rbf, Gamma: 0.001, Accuracy: 0.9298245614035088\n",
            "Kernel: rbf, Gamma: 0.0001, Accuracy: 0.9298245614035088\n",
            "Kernel: sigmoid, Gamma: 0.1, Accuracy: 0.5789473684210527\n",
            "Kernel: sigmoid, Gamma: 0.01, Accuracy: 0.5789473684210527\n",
            "Kernel: sigmoid, Gamma: 0.001, Accuracy: 0.5789473684210527\n",
            "Kernel: sigmoid, Gamma: 0.0001, Accuracy: 0.5789473684210527\n"
          ]
        }
      ]
    },
    {
      "cell_type": "code",
      "source": [
        "# Modelo final de acuerdo a los score\n",
        "modelo = svm.SVC(kernel='linear')\n",
        "modelo.fit(X_train, y_train)\n",
        "pred = modelo.predict(X_test)\n",
        "predicciones = accuracy_score(y_test, pred)\n",
        "\n",
        "predicciones"
      ],
      "metadata": {
        "colab": {
          "base_uri": "https://localhost:8080/"
        },
        "id": "CAaOh7UxH4On",
        "outputId": "45856064-5d8f-4930-9de1-c57bc0a5689b"
      },
      "execution_count": null,
      "outputs": [
        {
          "output_type": "execute_result",
          "data": {
            "text/plain": [
              "0.9473684210526315"
            ]
          },
          "metadata": {},
          "execution_count": 14
        }
      ]
    },
    {
      "cell_type": "code",
      "source": [
        "from sklearn.metrics import confusion_matrix\n",
        "confusion_matrix(y_test, pred)"
      ],
      "metadata": {
        "colab": {
          "base_uri": "https://localhost:8080/"
        },
        "id": "xPGmSAe3IWHP",
        "outputId": "1a59181d-d0c6-455a-f147-b7e86254244e"
      },
      "execution_count": null,
      "outputs": [
        {
          "output_type": "execute_result",
          "data": {
            "text/plain": [
              "array([[42,  6],\n",
              "       [ 0, 66]])"
            ]
          },
          "metadata": {},
          "execution_count": 20
        }
      ]
    },
    {
      "cell_type": "markdown",
      "source": [
        "Esta matriz 2x2 se interpreta así:\n",
        "\n",
        "[42, 6]: Primera fila\n",
        "\n",
        "42: Verdaderos Negativos (predijo correctamente 42 casos malignos)\n",
        "6: Falsos Positivos (predijo benigno cuando eran malignos en 6 casos)\n",
        "\n",
        "\n",
        "[0, 66]: Segunda fila\n",
        "\n",
        "0: Falsos Negativos (no hubo casos donde predijo maligno cuando era benigno)\n",
        "66: Verdaderos Positivos (predijo correctamente 66 casos benignos)\n",
        "\n",
        "\n",
        "\n",
        "En resumen:\n",
        "\n",
        "El modelo acertó en 108 casos (42 + 66)\n",
        "Se equivocó en 6 casos\n",
        "Lo más importante: cuando el modelo predice que un tumor es benigno, tiene muy alta confiabilidad (0 falsos negativos), lo cual es crucial en diagnósticos médicos."
      ],
      "metadata": {
        "id": "d3LzvwbFJeaV"
      }
    },
    {
      "cell_type": "code",
      "source": [
        "from sklearn.metrics import precision_score\n",
        "precision_score(y_test, pred)"
      ],
      "metadata": {
        "colab": {
          "base_uri": "https://localhost:8080/"
        },
        "id": "Ld54nYaMIqyi",
        "outputId": "df68603f-5ce7-4711-a83b-60b59d5192d9"
      },
      "execution_count": null,
      "outputs": [
        {
          "output_type": "execute_result",
          "data": {
            "text/plain": [
              "0.9166666666666666"
            ]
          },
          "metadata": {},
          "execution_count": 21
        }
      ]
    }
  ]
}